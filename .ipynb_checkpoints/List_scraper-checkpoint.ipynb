{
 "cells": [
  {
   "cell_type": "code",
   "execution_count": null,
   "metadata": {},
   "outputs": [],
   "source": [
    "import letterboxd as lb\n",
    "\n",
    "print(dir(lb))\n",
    "\n",
    "lb.new()"
   ]
  },
  {
   "cell_type": "code",
   "execution_count": 5,
   "metadata": {},
   "outputs": [
    {
     "name": "stdout",
     "output_type": "stream",
     "text": [
      "the-most-controversial-films-on-letterboxd\n"
     ]
    }
   ],
   "source": [
    "contr_list = 'https://letterboxd.com/thisisdrew/list/the-most-controversial-films-on-letterboxd/'\n",
    "\n",
    "print(contr_list.split('/')[-2])"
   ]
  },
  {
   "cell_type": "code",
   "execution_count": 154,
   "metadata": {},
   "outputs": [
    {
     "data": {
      "text/plain": [
       "1"
      ]
     },
     "execution_count": 154,
     "metadata": {},
     "output_type": "execute_result"
    }
   ],
   "source": [
    "from bs4 import BeautifulSoup\n",
    "import requests\n",
    "from tqdm import tqdm\n",
    "import numpy as np\n",
    "#from transform_stars import *\n",
    "\n",
    "_domain = 'https://letterboxd.com/'\n",
    "\n",
    "def scrape_list(list_link):\n",
    "    \n",
    "    film_rows = []\n",
    "    film_rows.append(['Film_title', 'Release_year', 'Director', 'Cast', 'Average_rating', 'Letterboxd URL'])\n",
    "    \n",
    "    while True:\n",
    "        list_page = requests.get(list_link)\n",
    "        \n",
    "        # check to see page was downloaded correctly\n",
    "        if list_page.status_code != 200:\n",
    "            encounter_error(\"\")\n",
    "\n",
    "        soup = BeautifulSoup(list_page.content, 'html.parser')\n",
    "        # browser.get(following_url)\n",
    "        \n",
    "        # grab the main film grid\n",
    "        table = soup.find('ul', class_='poster-list')\n",
    "        if table is None:\n",
    "            return None\n",
    "        \n",
    "        films = table.find_all('li')\n",
    "        \n",
    "        # iterate through films\n",
    "        for film in tqdm(films[:1]):\n",
    "            \n",
    "            panel = film.find('div').find('img')\n",
    "            film_name = panel['alt']\n",
    "            #print(transform_stars(film.find('p', class_='poster-viewingdata').get_text().strip()))\n",
    "            # try to find the rating of a film in film lists and converting to float\n",
    "            stars = film.find('span', class_='rating').get_text().strip()\n",
    "            \n",
    "            rating = transform_stars(stars)\n",
    "            print(stars, rating)\n",
    "            \n",
    "            \n",
    "            # Obtaining release year, director and average rating of the movie by going to the movie page\n",
    "            film_card = film.find('div').get('data-target-link')\n",
    "            film_page = _domain + film_card\n",
    "            filmget = requests.get(film_page)\n",
    "            film_soup = BeautifulSoup(filmget.content, 'html.parser')\n",
    "            \n",
    "            release_year = film_soup.find('meta', attrs={'property':'og:title'}).attrs['content'][-5:-1]\n",
    "            director = film_soup.find('meta', attrs={'name':'twitter:data1'}).attrs['content']\n",
    "            \n",
    "            # try to find the cast, if not found insert a nan\n",
    "            try:\n",
    "                cast = [ line.contents[0] for line in film_soup.find('div', attrs={'id':'tab-cast'}).find_all('a')]\n",
    "            except:\n",
    "                cast = np.nan\n",
    "            \n",
    "            # try to find average rating, if not insert a nan\n",
    "            try:\n",
    "                average_rating = float(film_soup.find('meta', attrs={'name':'twitter:data2'}).attrs['content'][:4])\n",
    "            except:\n",
    "                average_rating = np.nan\n",
    "\n",
    "            film_rows.append([film_name, release_year, director, cast, average_rating, _domain+film_card])\n",
    "            \n",
    "        # check if there is another page of ratings\n",
    "        next_button = soup.find('a', class_='next')\n",
    "        if next_button is None:\n",
    "            break\n",
    "        else:\n",
    "            list_link = _domain + next_button['href']\n",
    "            \n",
    "    return film_rows\n",
    "\n",
    "\n",
    "#cast = [ line.contents[0] for line in film_soup.find('div', attrs={'id':'tab-cast'}).find_all('a')]\n",
    "\n",
    "import csv\n",
    "\n",
    "def list_to_csv(film_rows, list_name):\n",
    "    \"\"\"\n",
    "    Takes in a list of lists and converts it to a CSV file\n",
    "    \n",
    "    \"\"\"\n",
    "    \n",
    "    with open(f'{list_name}.csv', 'w') as f:\n",
    "        write = csv.writer(f)\n",
    "\n",
    "        write.writerows(film_rows)\n",
    "        \n",
    "    return\n",
    "\n",
    "\n",
    "#testlist = scrape_list('https://letterboxd.com/BjornBork/films/')\n",
    "\n",
    "transform_stars(\"★\")\n",
    "\n",
    "\n",
    "#list_to_csv(testlist, 'test')"
   ]
  },
  {
   "cell_type": "code",
   "execution_count": 153,
   "metadata": {},
   "outputs": [
    {
     "data": {
      "text/plain": [
       "1"
      ]
     },
     "execution_count": 153,
     "metadata": {},
     "output_type": "execute_result"
    }
   ],
   "source": [
    "def transform_stars(starstring):\n",
    "    \"\"\"\n",
    "    Transforms star rating into float value\n",
    "    \"\"\"\n",
    "    stars = {\n",
    "        \"★\": 1,\n",
    "        \"★★\": 2,\n",
    "        \"★★★\": 3,\n",
    "        \"★★★★\": 4,\n",
    "        \"★★★★★\": 5,\n",
    "        \"½\": 0.5,\n",
    "        \"★½\": 1.5,\n",
    "        \"★★½\": 2.5,\n",
    "        \"★★★½\": 3.5,\n",
    "        \"★★★★½\": 4.5\n",
    "    }\n",
    "    try:\n",
    "        return stars[starstring]\n",
    "    except:\n",
    "        print('AAAAAAAAAAAAA')\n",
    "        return -1\n",
    "    \n",
    "transform_stars('★')"
   ]
  },
  {
   "cell_type": "code",
   "execution_count": 118,
   "metadata": {},
   "outputs": [
    {
     "data": {
      "text/plain": [
       "['Achmed Akkabi',\n",
       " 'Vincent Banic',\n",
       " 'Loek Beernink',\n",
       " 'Filip Bolluyt',\n",
       " 'Sven de Wijn',\n",
       " 'Ton Feil',\n",
       " 'Frank Focketyn',\n",
       " 'Maryam Hassouni',\n",
       " 'Gamze Tazim',\n",
       " 'Lucien van Geffen',\n",
       " 'Vreneli van Helbergen',\n",
       " 'Marieke Westenenk',\n",
       " 'Egbert Jan Weeber',\n",
       " 'Walter Crommelin',\n",
       " 'Iris Hesseling']"
      ]
     },
     "execution_count": 118,
     "metadata": {},
     "output_type": "execute_result"
    }
   ],
   "source": [
    "import pandas as pd\n",
    "\n",
    "def cast_reader(csv_file):\n",
    "    \n",
    "    df = pd.read_csv('test.csv')\n",
    "    \n",
    "    # importing the cast cell as an entire literal string\n",
    "    caststring = df['Cast'].values[0]\n",
    "    cast = [ actor.strip(\" '\") for actor in castio[1:-1].split(',') ]\n",
    "    \n",
    "    return cast"
   ]
  },
  {
   "cell_type": "code",
   "execution_count": 33,
   "metadata": {},
   "outputs": [],
   "source": [
    "f = open(\"controversial_list.csv\", \"w\")\n",
    "f.write(\"\\n\".join(current_list.films))\n",
    "f.close()"
   ]
  },
  {
   "cell_type": "code",
   "execution_count": 48,
   "metadata": {},
   "outputs": [
    {
     "name": "stdout",
     "output_type": "stream",
     "text": [
      "188 ns ± 3.18 ns per loop (mean ± std. dev. of 7 runs, 1000000 loops each)\n"
     ]
    }
   ],
   "source": [
    "%%timeit\n",
    "import pandas\n",
    "\n",
    "def cast_reader(csv_file, film_title):\n",
    "    \"\"\"\n",
    "    Takes in a scraped CSV file with a 'Cast' column and\n",
    "    outputs a normal list of all the cast members.\n",
    "    Can be used to read in the cast data from a scraped CSV\n",
    "    \n",
    "    \"\"\"\n",
    "    \n",
    "    df = pandas.read_csv(csv_file)\n",
    "\n",
    "    # importing the cast cell as an entire literal string\n",
    "    movie = df[df['Film_title'] == film_title]\n",
    "    caststring = movie['Cast'].values[0]\n",
    "    \n",
    "    cast = [ actor.strip(\" '\") for actor in caststring[1:-1].split(',') ]\n",
    "    return cast"
   ]
  },
  {
   "cell_type": "code",
   "execution_count": 74,
   "metadata": {},
   "outputs": [],
   "source": [
    "import pandas as pd\n",
    "from cast_reader import cast_reader\n",
    "\n",
    "# imports to obtain most viewed actor\n",
    "import operator\n",
    "from collections import Counter\n",
    "\n",
    "\n",
    "# reading in the CSV file\n",
    "csv_file = 'drzeno_films.csv'\n",
    "df = pd.read_csv(csv_file)\n",
    "\n",
    "# obtaining a dict of most viewed director and all watched films\n",
    "director_count = df['Director'].value_counts().to_dict()\n",
    "film_list = df['Film_title'].values\n",
    "\n",
    "# creating a dictionary with as key film_title and value a list of all actors\n",
    "actor_dict = dict()\n",
    "for film in film_list:\n",
    "    cast = cast_reader(csv_file, film)\n",
    "    actor_dict[film] = cast\n",
    "    \n",
    "# creates a list of most viewed actors\n",
    "counter = Counter(sum(actor_dict.values(),[]))\n",
    "actor_count = np.array(sorted(counter.items(), key=operator.itemgetter(1))[::-1])"
   ]
  },
  {
   "cell_type": "code",
   "execution_count": 75,
   "metadata": {},
   "outputs": [
    {
     "data": {
      "image/png": "[encoded data removed]",
      "text/plain": [
       "<Figure size 432x288 with 1 Axes>"
      ]
     },
     "metadata": {
      "needs_background": "light"
     },
     "output_type": "display_data"
    }
   ],
   "source": [
    "import matplotlib.pyplot as plt\n",
    "\n",
    "#print(actor_count[:10,0])\n",
    "\n",
    "plt.bar(actor_count[:10,0], actor_count[:10,1].astype(np.float))\n",
    "plt.xticks(rotation=35, y=0.1)\n",
    "plt.show()"
   ]
  }
 ],
 "metadata": {
  "kernelspec": {
   "display_name": "Python 3",
   "language": "python",
   "name": "python3"
  },
  "language_info": {
   "codemirror_mode": {
    "name": "ipython",
    "version": 3
   },
   "file_extension": ".py",
   "mimetype": "text/x-python",
   "name": "python",
   "nbconvert_exporter": "python",
   "pygments_lexer": "ipython3",
   "version": "3.8.5"
  }
 },
 "nbformat": 4,
 "nbformat_minor": 4
}
