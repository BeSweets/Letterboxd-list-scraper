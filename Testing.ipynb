{
 "cells": [
  {
   "cell_type": "code",
   "execution_count": 18,
   "metadata": {},
   "outputs": [],
   "source": [
    "from bs4 import BeautifulSoup\n",
    "import requests\n",
    "from tqdm import tqdm\n",
    "import numpy as np\n",
    "import re\n",
    "\n",
    "url = \"https://letterboxd.com/roguehuckster/list/rated-movies/\""
   ]
  },
  {
   "cell_type": "code",
   "execution_count": 10,
   "metadata": {},
   "outputs": [],
   "source": [
    "def transform_stars(starstring):\n",
    "    \"\"\"\n",
    "    Transforms star rating into float value\n",
    "    \"\"\"\n",
    "    stars = {\n",
    "        \"★\": 1,\n",
    "        \"★★\": 2,\n",
    "        \"★★★\": 3,\n",
    "        \"★★★★\": 4,\n",
    "        \"★★★★★\": 5,\n",
    "        \"½\": 0.5,\n",
    "        \"★½\": 1.5,\n",
    "        \"★★½\": 2.5,\n",
    "        \"★★★½\": 3.5,\n",
    "        \"★★★★½\": 4.5\n",
    "    }\n",
    "    try:\n",
    "        return stars[starstring]\n",
    "    except:\n",
    "        return np.nan"
   ]
  },
  {
   "cell_type": "code",
   "execution_count": 6,
   "metadata": {},
   "outputs": [],
   "source": [
    "_domain = 'https://letterboxd.com/'\n",
    "\n",
    "def scrape_list(list_link):\n",
    "    \"\"\"\n",
    "    Takes in a Letterboxd link and outputs a list of film title, release year, \n",
    "    director, cast, average rating and letterboxd url\n",
    "    \"\"\"\n",
    "\n",
    "    film_rows = []\n",
    "    film_rows.append(['Film_title', 'Release_year', 'Director', 'Cast', 'Personal_rating', 'Average_rating','Letterboxd URL'])\n",
    "\n",
    "    while True:\n",
    "        list_page = requests.get(list_link)\n",
    "        \n",
    "        # check to see page was downloaded correctly\n",
    "        if list_page.status_code != 200:\n",
    "            return print(\"Error: Could not load page\")\n",
    "\n",
    "        soup = BeautifulSoup(list_page.content, 'lxml')\n",
    "        \n",
    "        # grab the main film grid\n",
    "        table = soup.find('ul', class_='poster-list')\n",
    "        if table is None:\n",
    "            return None\n",
    "        \n",
    "        films = table.find_all('li')\n",
    "\n",
    "        # iterate through films\n",
    "        for film in tqdm(films):\n",
    "            \n",
    "            # finding the film name\n",
    "            panel = film.find('div').find('img')\n",
    "            film_name = panel['alt']\n",
    "            \n",
    "            # try to find the rating of a film if possible and converting to float\n",
    "            try:\n",
    "                stars = film.find('span', class_='rating').get_text().strip()\n",
    "                rating = transform_stars(stars)\n",
    "            except:\n",
    "                rating = np.nan\n",
    "            \n",
    "            # Obtaining release year, director, cast and average rating of the movie\n",
    "            film_card = film.find('div').get('data-target-link')\n",
    "            film_page = _domain + film_card\n",
    "            filmget = requests.get(film_page)\n",
    "            film_soup = BeautifulSoup(filmget.content, 'html.parser')\n",
    "            \n",
    "            release_year = film_soup.find('meta', attrs={'property':'og:title'}).attrs['content'][-5:-1]\n",
    "            director = film_soup.find('meta', attrs={'name':'twitter:data1'}).attrs['content']\n",
    "            \n",
    "            # try to find the cast, if not found insert a nan\n",
    "            try:\n",
    "                cast = [ line.contents[0] for line in film_soup.find('div', attrs={'id':'tab-cast'}).find_all('a')]\n",
    "                \n",
    "                # remove all the 'Show All...' tags if they are present\n",
    "                cast = [i for i in cast if i != 'Show All…']\n",
    "            \n",
    "            except:\n",
    "                cast = np.nan\n",
    "            \n",
    "            # try to find average rating, if not insert a nan\n",
    "            try:\n",
    "                average_rating = float(film_soup.find('meta', attrs={'name':'twitter:data2'}).attrs['content'][:4])\n",
    "            except:\n",
    "                average_rating = np.nan\n",
    "\n",
    "            # Scrape movie genres\n",
    "            genres = film_soup.find('div', {'class': 'text-sluglist capitalize'})\n",
    "            genres = [genres.text for genres in genres.find_all('a', {'class': 'text-slug'})]\n",
    "\n",
    "            film_rows.append([film_name, release_year, director, cast, rating, average_rating, film_page])\n",
    "\n",
    "        # check if there is another page of ratings\n",
    "        next_button = soup.find('a', class_='next')\n",
    "        if next_button is None:\n",
    "            break\n",
    "        else:\n",
    "            list_link = _domain + next_button['href']\n",
    "            \n",
    "    return film_rows"
   ]
  },
  {
   "cell_type": "code",
   "execution_count": 13,
   "metadata": {},
   "outputs": [],
   "source": [
    "fnaf = scrape_list(url)[0]"
   ]
  },
  {
   "cell_type": "code",
   "execution_count": null,
   "metadata": {},
   "outputs": [],
   "source": [
    "_domain = 'https://letterboxd.com/'\n",
    "film_rows = []\n",
    "film_rows.append(['Film_title', 'Release_year', 'Director', 'Genres', 'Personal_rating', 'Average_rating', 'Runtime' 'Cast', 'Letterboxd URL'])\n",
    "\n",
    "#list_page = requests.get(https://letterboxd.com/film/five-nights-at-freddys/)\n",
    "#soup = BeautifulSoup(list_page.content, 'lxml')\n",
    "\n",
    "# finding the film name\n",
    "panel = fnaf.find('div').find('img')\n",
    "film_name = panel['alt']\n",
    "\n",
    "# try to find the rating of a film if possible and converting to float\n",
    "try:\n",
    "    stars = fnaf.find('span', class_='rating').get_text().strip()\n",
    "    rating = transform_stars(stars)\n",
    "except:\n",
    "    rating = np.nan\n",
    "\n",
    "# Obtaining release year, director, cast and average rating of the movie\n",
    "film_card = fnaf.find('div').get('data-target-link')\n",
    "film_page = _domain + film_card\n",
    "filmget = requests.get(film_page)\n",
    "film_soup = BeautifulSoup(filmget.content, 'html.parser')\n",
    "\n",
    "release_year = film_soup.find('meta', attrs={'property':'og:title'}).attrs['content'][-5:-1]\n",
    "director = film_soup.find('meta', attrs={'name':'twitter:data1'}).attrs['content']\n",
    "\n",
    "# try to find the cast, if not found insert a nan\n",
    "try:\n",
    "    cast = [ line.contents[0] for line in film_soup.find('div', attrs={'id':'tab-cast'}).find_all('a')]\n",
    "    \n",
    "    # remove all the 'Show All...' tags if they are present\n",
    "    cast = [i for i in cast if i != 'Show All…']\n",
    "\n",
    "except:\n",
    "    cast = np.nan\n",
    "\n",
    "# try to find average rating, if not insert a nan\n",
    "try:\n",
    "    average_rating = float(film_soup.find('meta', attrs={'name':'twitter:data2'}).attrs['content'][:4])\n",
    "except:\n",
    "    average_rating = np.nan\n",
    "\n",
    "# Scrape movie genres\n",
    "genres = film_soup.find('div', {'class': 'text-sluglist capitalize'})\n",
    "genres = [genres.text for genres in genres.find_all('a', {'class': 'text-slug'})]\n",
    "\n",
    "# Get movie runtime by searching for first sequence of digits in the p element with the runtime\n",
    "runtime = int(re.search(r'\\d+', film_soup.find('p', {'class': 'text-link text-footer'}).text).group())\n",
    "\n",
    "film_rows.append([film_name, release_year, director, genres, rating, average_rating, runtime, cast, film_page])\n",
    "film_rows"
   ]
  },
  {
   "cell_type": "code",
   "execution_count": 24,
   "metadata": {},
   "outputs": [
    {
     "data": {
      "text/plain": [
       "110"
      ]
     },
     "execution_count": 24,
     "metadata": {},
     "output_type": "execute_result"
    }
   ],
   "source": [
    "int(re.search(r'\\d+', film_soup.find('p', {'class': 'text-link text-footer'}).text).group())"
   ]
  },
  {
   "cell_type": "code",
   "execution_count": 21,
   "metadata": {},
   "outputs": [
    {
     "data": {
      "text/plain": [
       "'\\n\\t\\t\\t\\t\\t\\n\\t\\t\\t\\t\\t110\\xa0mins \\xa0\\n\\t\\t\\t\\t\\t\\n\\t\\t\\t\\t\\t\\tMore at\\n\\t\\t\\t\\t\\t\\tIMDb\\nTMDb\\n Report this page \\n'"
      ]
     },
     "execution_count": 21,
     "metadata": {},
     "output_type": "execute_result"
    }
   ],
   "source": [
    "film_soup.find('p', {'class': 'text-link text-footer'}).text"
   ]
  }
 ],
 "metadata": {
  "kernelspec": {
   "display_name": "Python 3",
   "language": "python",
   "name": "python3"
  },
  "language_info": {
   "codemirror_mode": {
    "name": "ipython",
    "version": 3
   },
   "file_extension": ".py",
   "mimetype": "text/x-python",
   "name": "python",
   "nbconvert_exporter": "python",
   "pygments_lexer": "ipython3",
   "version": "3.11.6"
  }
 },
 "nbformat": 4,
 "nbformat_minor": 2
}
